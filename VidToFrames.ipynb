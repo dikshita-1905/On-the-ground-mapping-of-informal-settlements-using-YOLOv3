{
  "nbformat": 4,
  "nbformat_minor": 0,
  "metadata": {
    "colab": {
      "provenance": []
    },
    "kernelspec": {
      "display_name": "Python 3",
      "name": "python3"
    },
    "language_info": {
      "name": "python"
    }
  },
  "cells": [
    {
      "cell_type": "code",
      "metadata": {
        "colab": {
          "base_uri": "https://localhost:8080/"
        },
        "id": "S9L4b2kqVivJ",
        "outputId": "bc30786f-c7b2-4d47-de6a-922f0c945d75"
      },
      "source": [
        "from google.colab import drive\n",
        "drive.mount('/content/gdrive')"
      ],
      "execution_count": null,
      "outputs": [
        {
          "name": "stdout",
          "output_type": "stream",
          "text": [
            "Mounted at /content/gdrive\n"
          ]
        }
      ]
    },
    {
      "cell_type": "code",
      "metadata": {
        "colab": {
          "base_uri": "https://localhost:8080/"
        },
        "id": "O0QGLvtDVlIp",
        "outputId": "a97d1754-6f02-4eaf-b6eb-f17789a649d6"
      },
      "source": [
        "!ln -s /content/gdrive/My\\ Drive/ /mydrive\n",
        "!ls /mydrive"
      ],
      "execution_count": null,
      "outputs": [
        {
          "name": "stdout",
          "output_type": "stream",
          "text": [
            "'Colab Notebooks'     Minipro-1.ipynb   VidToFrames.ipynb\n",
            " Custom_data\t      sample.mp4        yolo_custom_model_Training\n",
            " Custom_dataset.zip   Untitled0.ipynb   Yolov3KP.ipynb\n",
            " Dataset\t      Videotoframe\n"
          ]
        }
      ]
    },
    {
      "cell_type": "code",
      "metadata": {
        "colab": {
          "base_uri": "https://localhost:8080/"
        },
        "id": "P10aCVVbWq40",
        "outputId": "ce4a2aa6-6c82-42e5-cbb2-fb86d6b03e78"
      },
      "source": [
        "%cd /mydrive\n",
        "!ls"
      ],
      "execution_count": null,
      "outputs": [
        {
          "name": "stdout",
          "output_type": "stream",
          "text": [
            "/content/gdrive/My Drive\n",
            "'Colab Notebooks'     Minipro-1.ipynb   VidToFrames.ipynb\n",
            " Custom_data\t      sample.mp4        yolo_custom_model_Training\n",
            " Custom_dataset.zip   Untitled0.ipynb   Yolov3KP.ipynb\n",
            " Dataset\t      Videotoframe\n"
          ]
        }
      ]
    },
    {
      "cell_type": "code",
      "metadata": {
        "id": "4_gZH6COVbkG"
      },
      "source": [
        "import cv2\n",
        "import os"
      ],
      "execution_count": null,
      "outputs": []
    },
    {
      "cell_type": "code",
      "metadata": {
        "id": "BQ_eRe3LVSF4"
      },
      "source": [
        "def FrameCapture(path):\n",
        "\n",
        "    vidObj = cv2.VideoCapture(path)\n",
        "\n",
        "    count = 0\n",
        "\n",
        "    success = 1\n",
        "    path = '/mydrive/Videotoframe'\n",
        "    vidObj.set(cv2.CAP_PROP_POS_MSEC,60000)\n",
        "\n",
        "    while success:\n",
        "\n",
        "        success, image = vidObj.read()\n",
        "\n",
        "        if image is not None :\n",
        "         cv2.imwrite(os.path.join(path,\"frame%d.jpg\" % count), image)\n",
        "\n",
        "        count += 1\n",
        ""
      ],
      "execution_count": null,
      "outputs": []
    },
    {
      "cell_type": "code",
      "metadata": {
        "colab": {
          "background_save": true
        },
        "id": "QlKlgQYYW9Tm"
      },
      "source": [
        "FrameCapture(\"sample.mp4\")"
      ],
      "execution_count": null,
      "outputs": []
    },
    {
      "cell_type": "code",
      "metadata": {
        "id": "WCPwcahsrE_R"
      },
      "source": [],
      "execution_count": null,
      "outputs": []
    }
  ]
}